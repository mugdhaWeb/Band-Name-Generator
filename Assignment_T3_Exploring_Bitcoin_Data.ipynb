{
  "nbformat": 4,
  "nbformat_minor": 0,
  "metadata": {
    "kernelspec": {
      "display_name": "Python 3",
      "language": "python",
      "name": "python3"
    },
    "language_info": {
      "codemirror_mode": {
        "name": "ipython",
        "version": 3
      },
      "file_extension": ".py",
      "mimetype": "text/x-python",
      "name": "python",
      "nbconvert_exporter": "python",
      "pygments_lexer": "ipython3",
      "version": "3.7.4"
    },
    "colab": {
      "name": "Assignment T3: Exploring Bitcoin Data",
      "provenance": [],
      "collapsed_sections": [],
      "toc_visible": true,
      "include_colab_link": true
    }
  },
  "cells": [
    {
      "cell_type": "markdown",
      "metadata": {
        "id": "view-in-github",
        "colab_type": "text"
      },
      "source": [
        "<a href=\"https://colab.research.google.com/github/mugdhaWeb/Band-Name-Generator/blob/main/Assignment_T3_Exploring_Bitcoin_Data.ipynb\" target=\"_parent\"><img src=\"https://colab.research.google.com/assets/colab-badge.svg\" alt=\"Open In Colab\"/></a>"
      ]
    },
    {
      "cell_type": "markdown",
      "metadata": {
        "id": "WEjxrARv9_eo"
      },
      "source": [
        "# **Assignment T3: Exploring Bitcoin Data**\n",
        "\n",
        "*Assignment written by Naveen Durvasula, Franklyn Wang, and Adam Pahlavan*\n",
        "\n",
        "In the following assignment, you will experience practice applying descriptive statistics to bitcoin data.\n"
      ]
    },
    {
      "cell_type": "markdown",
      "metadata": {
        "id": "6QJ6Gjmh9_eq"
      },
      "source": [
        "## Overview\n",
        "\n",
        "In this assignment, we'll be exploring the bitcoin starter dataset in *Computer Hardware and Development/dh-bitcoin.csv*. The bitcoin dataset contains metadata on bitcoin network traffic from 2009 to 2014. The dataset is very interesting, and there are a few peculiar quirks that we'll explore which are generalizable in nature. A few notes: \n",
        "\n",
        "* **Please do not worry if you know nothing about Bitcoin or blockchains.** This assignment embraces the framework of [just-in-time learning](https://en.wikipedia.org/wiki/Just-in-time_learning#:~:text=Just%2Din%2Dtime%20learning%20is,is%20needed%20by%20the%20learner.). Throughout the assignment, we will introduce the necessary information you need to know to tackle each problem before the problem is presented. \n",
        "\n",
        "* While understanding this dataset may still be challenging, the decision to design the assignment around such a complex dataset was purposeful. **Working with challenging datasets will prepare you to tackle far more complex datasets in the future.** As far as tabular datasets go, the Bitcoin dataset is close to as hard as it gets. After completing the assignment, you should feel confident to conquer any tabular datasets you come into contact with in the future.\n",
        "\n",
        "* All three problems ask you to build a model which relates variables $X$ and $Y$ in the bitcoin dataset. In each case, the goal is to create a predictive model of $Y$ given $X$ for two particular columns in the dataset.\n",
        "\n",
        "* The method we ask you to follow in problems 1-3 is generalizable and can be adapted for exploratory data analysis you conduct in your own data science research projects. Performing this style of exploratory data analysis whenever you start a new project is a great way to begin exploring and getting familiar with the data you are working with.\n",
        "\n",
        "Let's get started!"
      ]
    },
    {
      "cell_type": "markdown",
      "metadata": {
        "id": "a-xertWatunj"
      },
      "source": [
        "# Before Starting: Save a Copy in Drive\n",
        "\n",
        "BEFORE YOU DO ANYTHING ELSE, make sure you save a copy of this Colab Notebook in your Google Drive by clicking *File -> Save a Copy in Drive*. By default, the Colab will be saved in *My Drive -> Colab Notebooks*. Since the original link is view-only, any edits you make will not be saved after you close the tab. Please refer to the image below:\n",
        "\n",
        "\n",
        "<img src=\"https://drive.google.com/uc?export=download&id=1a2maN-szhK79yuy9zFjqlSrUdyzJxL4g\" width=\"300\" />"
      ]
    },
    {
      "cell_type": "markdown",
      "metadata": {
        "id": "yaKqLvSC9_fh"
      },
      "source": [
        "# Problem 1: adjustedTxVolume and price\n",
        "\n",
        "In this problem, we'll explore the relationship between **adjustedTxVolume (X)** and **price (Y)** in the data."
      ]
    },
    {
      "cell_type": "markdown",
      "metadata": {
        "id": "QquKhgbNs9lj"
      },
      "source": [
        "\n",
        "\n",
        "---\n",
        "\n",
        "\n",
        "### **Reading: Crash Course on Bitcoin**\n",
        "\n",
        "Before we get started, we wanted to introduce a short lesson on Bitcoin that will be useful for this problem. As you may know, Bitcoin is the first example of a [digital cryptocurrency](https://en.wikipedia.org/wiki/Cryptocurrency). The full details of how a blockchain or cryptocurrency work are pretty complex, and you will not need to know them to complete this assignment. We will explain the high-level details you should be familiar with below:\n",
        "\n",
        "*   For the purpose of this assignment, just think of Bitcoin as any other international currency, like the European euro.\n",
        "*   Just like any other international currency, there are transactions that can be measured in both the native currency denomination or in the equivalent US dollars. The exact price of a transaction in US dollars depends not only on the volume in the native demonination (i.e. 15 euros) but also the exchange rate between US dollars and the foreign currency (i.e. 1 euro = 1.12 USD). **This exchange rate fluctuates every second in a competitive market.**\n",
        "*   One important detail worth mentioning for cryptocurrencies like Bitcoin is **there is no central backing to the currency**. The Bitcoin network is completely decentralized, and transactions are processed by the world's collective computing power. Unlike most currencies which are backed by governments, no one is really in charge of Bitcoin.\n",
        "*   To give Bitcoin miners an incentive to process (or *mine*) new transactions, new Bitcoin currency is minted and given to the winner of the mining process every time a new block is mined. We will return to the mining process in Problem 3 once we discuss mining rewards."
      ]
    },
    {
      "cell_type": "markdown",
      "metadata": {
        "id": "9zFO0qNftCwS"
      },
      "source": [
        "---\n",
        "\n",
        "### **$X$, $Y$ Column Descriptions**\n",
        "\n",
        "This problem compares both **adjustedTxVolume (X)** and **price (Y)** in the data. We will describe both columns below:\n",
        "\n",
        "*   **price (Y):** The price in US dollars (USD) of Bitcoin on a particular day. Represents how many US dollars it costs to buy one Bitcoin. Here is a [website](https://www.coindesk.com/price/bitcoin) where you can track the spectacular trend in the price of Bitcoin over time.\n",
        "*   **adjustedTxVolume (X):** The total adjusted economic throughput in USD on the bitcoin network on any particular day. Let's use an example to illustrate: let's say the bitcoin network had only two participants Alice and Bob. Let's say on one day, Alice paid Bob 3 Bitcoin, and Bob paid Alice 4 Bitcoin. The TxVolume for that day would be 7 Bitcoin (and not 1 Bitcoin). The way that TxVolume is calculated is based on gross totals and not any net measure. If you are familiar with the term gross domestic product (GDP) of a country from economics, it is also calculated in a similar way. Both adjustedTxVolume and GDP are measures of how much the economy on the bitcoin network or a country is \"buzzing.\"\n",
        "\n",
        "**Note:** The reason why the term *adjusted* is used to describe *txVolume* is because on the Bitcoin network, there are typically a lot of transactions that are not really associated with economic transactions. These transactions are a source of noise and error when trying to track economic throughput. Possible causes for this source of noise includes factors such as:\n",
        "\n",
        "*   **Mixers and other Privacy Enhancements:** Intermediate transactions that allow users to mix their coins with other users to obfuscate who the sender and receiver of each individual transaction is. Mixers can cause one true economic transaction to be elongated into many intermediate ones on the chain.\n",
        "*   **Self-Churn:** When a user shuffles Bitcoin among her/his own addresses. This can be used to either combine or reorganize the UTXOs (term introduced in problem 2) that a user owns.\n",
        "\n",
        "These transactions can often distort the actual economic throughput of the blockchain significantly and lead to overestimation of true economic throughput by a factor of ~10 (!). The adjusted measure of TxVolume is a way of trying to control for this source of error and to measure the true economic activity of the underlying network."
      ]
    },
    {
      "cell_type": "markdown",
      "metadata": {
        "id": "rfVAIgJCPxbO"
      },
      "source": [
        "---\n",
        "\n",
        "\n",
        "### **(a) Hypothesize the Relationship**\n",
        "Before you plot the data on a scatterplot, what do you hypothesize the relationship between $X$ and $Y$ will be? Do you hypothesize the data will follow either a linear, power law, or exponential relationship? If not, what kind of behavior do you hypothesize the data will exhibit? Please justify your response."
      ]
    },
    {
      "cell_type": "markdown",
      "metadata": {
        "id": "i6rCfDwNPxbP"
      },
      "source": [
        "<font color='blue'> *Write your text answer here*"
      ]
    },
    {
      "cell_type": "markdown",
      "metadata": {
        "id": "chA9NSOxuqEx"
      },
      "source": [
        "### **(b) Load a Fresh Copy of Data**\n",
        "\n",
        "Next, run the following cell to load the data into a *pandas* dataframe and to visualize the first five rows of data. Generally, each time you do an analysis, it's a good idea to load the data again to make sure you start with a clean copy of the dataset. If you apply a transformation to data, it's a good way of ensuring you don't have any transformations remaining when you do the next analysis. "
      ]
    },
    {
      "cell_type": "code",
      "metadata": {
        "id": "x4nKFzeBu4bx"
      },
      "source": [
        "import pandas as pd\n",
        "import matplotlib.pyplot as plt\n",
        "\n",
        "DATA_URL = 'https://drive.google.com/uc?export=download&id=1qIP6mpY7Kf1aBfHCUGptH8bCcChQsiOG'\n",
        "\n",
        "df = pd.read_csv(DATA_URL)\n",
        "\n",
        "df.head()"
      ],
      "execution_count": null,
      "outputs": []
    },
    {
      "cell_type": "markdown",
      "metadata": {
        "id": "DkU-NfeyPxbI"
      },
      "source": [
        "### **(c) Plot the Data on a Scatterplot**\n",
        "\n",
        "Visualize $X$ vs $Y$ using a scatterplot. \n",
        "\n",
        "*Hint: If you are unsure how to create the scatterplot, you may find the following [documentation](https://matplotlib.org/api/_as_gen/matplotlib.pyplot.scatter.html) to be useful.*"
      ]
    },
    {
      "cell_type": "code",
      "metadata": {
        "id": "gwwnheyZoyN6"
      },
      "source": [
        "# TODO"
      ],
      "execution_count": null,
      "outputs": []
    },
    {
      "cell_type": "markdown",
      "metadata": {
        "id": "afy7q09VPxbP"
      },
      "source": [
        "\n",
        "\n",
        "---\n",
        "### **(d) Describe Scatterplot**\n",
        "\n",
        "Describe, in completely qualitative terms, the direction, strength, and shape of this scatterplot. Recall the following three definitions from lecture:\n",
        "\n",
        "**Direction:** Qualitative descriptions of variable relationships (in the simplest form: \"As X increases, Y ...\")\n",
        "\n",
        "**Shape:** What does the data look like (linear, power law, exponential? if none of the above, how would you describe what the data looks like?)\n",
        "\n",
        "**Hetero/Homo-skedasticity:** Heteroskedasticity is when the standard deviation of y changes across different values of x. Homoscedasticity is the opposite, when variance is constant across values of x."
      ]
    },
    {
      "cell_type": "markdown",
      "metadata": {
        "id": "xV3COpmAo46v"
      },
      "source": [
        "<font color='blue'> *Write your text answer here*"
      ]
    },
    {
      "cell_type": "markdown",
      "metadata": {
        "id": "iAk23MnHPxbQ"
      },
      "source": [
        "\n",
        "\n",
        "---\n",
        "### **(e) Remove Outliers**\n",
        "\n",
        "If there are any outliers, please remove them and plot the new scatterplot without outliers. Please describe how many outliers you removed and the criteria you used when determining if a point was an outlier.\n",
        "\n",
        "Note that determine if a point is an outlier is a subjective measure so there may sometimes by multiple acceptable answers for how to remove outliers. In particular, one possible answer is that there are no outliers to remove; if you choose this option, please be sure to justify why you think there are no outliers to remove in the scatterplot."
      ]
    },
    {
      "cell_type": "code",
      "metadata": {
        "id": "V9aEnF4krwqp"
      },
      "source": [
        "# TODO"
      ],
      "execution_count": null,
      "outputs": []
    },
    {
      "cell_type": "markdown",
      "metadata": {
        "id": "CVje-jvmrw-a"
      },
      "source": [
        "<font color='blue'> *Write your text answer here*"
      ]
    },
    {
      "cell_type": "markdown",
      "metadata": {
        "id": "nkEtNX209_fr"
      },
      "source": [
        "\n",
        "\n",
        "---\n",
        "\n",
        "### **(f) Plot Three Transformations on Scatterplots**\n",
        "\n",
        "We would like to answer the question of whether the data is linear or whether there is a log-transformation under which it is linear. Use a scatterplot to plot each of the following three transformations:\n",
        "\n",
        "\n",
        "1.   X vs Y (linear)\n",
        "3.   X vs log Y (exponential)\n",
        "4.   log X vs log Y (power law)\n",
        "\n",
        "Compare the direction, strength, and shape of each of the transformed datsets. Based on which of the three graphs has the best fit, what do you hypothesize the best regression for the relationship between $X$ and $Y$ is? In the next part, we will more rigorously answer the question of which transformation to pursue.\n",
        "\n",
        "*Hint: To log-transform data, use np.log. Applying np.log to an array gives you an array where each element has been log-transformed.*"
      ]
    },
    {
      "cell_type": "code",
      "metadata": {
        "id": "vsOEarPHtz4d"
      },
      "source": [
        "# TODO"
      ],
      "execution_count": null,
      "outputs": []
    },
    {
      "cell_type": "markdown",
      "metadata": {
        "id": "mljx4Pgktz4p"
      },
      "source": [
        "<font color='blue'> *Write your text answer here*"
      ]
    },
    {
      "cell_type": "markdown",
      "metadata": {
        "id": "3gKQHwhw2xAN"
      },
      "source": [
        "---\n",
        "### **(g) Choose Best Transformation**\n",
        "\n",
        "We will now define a formal heuristic for selecting the best transformation for our regression. For each of the following transformations, calculate the value of the Pearson correlation coefficient *r* between the two variables:\n",
        "\n",
        "1.   X vs Y (linear)\n",
        "3.   X vs log Y (exponential)\n",
        "4.   log X vs log Y (power law)\n",
        "\n",
        "**Choose the transformation with the largest absolute value of *r* as the best transformation for this dataset.** We will call the coordinates associated with the transformation we choose $x'$ (either $X$ or $\\log{X}$) and $y'$ (either $Y$ or $\\log{Y}$) for the rest of the problem. \n",
        "\n",
        "**Note:** When completing this problem, please do the calculations for z-score and the correlation coefficient yourself and **do not** use functions like [scipy.stats.zscore](https://docs.scipy.org/doc/scipy/reference/generated/scipy.stats.zscore.html) or [scipy.stats.pearsonr](https://docs.scipy.org/doc/scipy/reference/generated/scipy.stats.pearsonr.html). While using these functions is great practice for your own work, we want you to gain experience calculating these quantities manually first.\n",
        "\n",
        "*Hints*:\n",
        "\n",
        "*  Recall that when we have a single column of quantitative data $X$ (or $\\log X$), we can take $z$-scores of the data by taking $z_{x} = \\frac{X - \\mu_{X}}{\\sigma_{X}}$.\n",
        "\n",
        "*   To calculate the values of the Pearson correlation coefficient $r$ between two quantitative variables $X$ and $Y$, first transform both $X$ and $Y$ to z-score space by normalizing both sets of coordinates. Then, use the following formula: \n",
        "\n",
        "$$ r = \\frac{\\sum_{i = 1}^{n} z_{x_{i}} z_{y_{i}}}{n} $$\n",
        "\n",
        "*   You may find the np.mean() (arr.mean()) or np.log(df) functions to be useful"
      ]
    },
    {
      "cell_type": "code",
      "metadata": {
        "id": "q2owukKsv86g"
      },
      "source": [
        "# TODO"
      ],
      "execution_count": null,
      "outputs": []
    },
    {
      "cell_type": "markdown",
      "metadata": {
        "id": "szcZA2CTv86m"
      },
      "source": [
        "<font color='blue'> *Write your text answer here*"
      ]
    },
    {
      "cell_type": "markdown",
      "metadata": {
        "id": "sknlDUY59_fy"
      },
      "source": [
        "---\n",
        "### **(h) Calculate Regression Coefficients**\n",
        "\n",
        "Transform your data $x'$ and $y'$ to z-score space (i.e. calculate the z-scores $z_{y'}$ and $z_{x'}$), and write code to calculate the regression coefficients $w'$ and $b'$ for $z_{y'} = w'*z_{x'} + b'$. Print out the values of $w'$ and $b'$.\n",
        "\n",
        "**Note:** For the same reason as listed in part (g), for the purpose of this assignment, please calculate your answer manually with code and **do not** use functions like [scipy.stats.linregress](https://docs.scipy.org/doc/scipy/reference/generated/scipy.stats.linregress.html).\n",
        "\n",
        "*Hint: Recall that it is fairly simple to calculate $b'$ and $w'$ for a linear regression between two variables in z-score space. w' is just the correlation coefficient r between the variables, and b' is a particular constant.*"
      ]
    },
    {
      "cell_type": "code",
      "metadata": {
        "id": "7ylCyIoizM2G"
      },
      "source": [
        "# TODO"
      ],
      "execution_count": null,
      "outputs": []
    },
    {
      "cell_type": "markdown",
      "metadata": {
        "id": "HvH_pqZ09_f_"
      },
      "source": [
        "\n",
        "\n",
        "---\n",
        "### **(i) Calculate Coefficient of Determination $R^2$**\n",
        "Compute the value of $R^2$ for the regression calculated in the last part. Intepret the value of $R^2$ in the context of this problem. If you did part (g) properly, you shouldn't need to do any complicated math here!\n",
        "\n",
        "**Note:** For the same reason as listed in part (g), for the purpose of this assignment, please calculate your answer manually with code and **do not** use functions like [sklearn.metrics.r2_score](https://scikit-learn.org/stable/modules/generated/sklearn.metrics.r2_score.html)."
      ]
    },
    {
      "cell_type": "code",
      "metadata": {
        "id": "WGj-F55KzUtT"
      },
      "source": [
        "# TODO"
      ],
      "execution_count": null,
      "outputs": []
    },
    {
      "cell_type": "markdown",
      "metadata": {
        "id": "lMetfj5HzUtW"
      },
      "source": [
        "<font color='blue'> *Write your text answer here*"
      ]
    },
    {
      "cell_type": "markdown",
      "metadata": {
        "id": "FG6_dIGk9_gC"
      },
      "source": [
        "---\n",
        "### **(j) Plot Residuals**\n",
        "Next, plot the residuals for the regression you calculated in part (h) for the linear regression for $x'$ and $y'$ in z-score space. Explain whether the residuals graph is patterned or exhibits systematic error."
      ]
    },
    {
      "cell_type": "code",
      "metadata": {
        "id": "qBtRG3JizZSZ"
      },
      "source": [
        "# TODO"
      ],
      "execution_count": null,
      "outputs": []
    },
    {
      "cell_type": "markdown",
      "metadata": {
        "id": "Tv9T0SYTzZSb"
      },
      "source": [
        "<font color='blue'> *Write your text answer here*"
      ]
    },
    {
      "cell_type": "markdown",
      "metadata": {
        "id": "oZ4Q6m_D-ZNn"
      },
      "source": [
        "---\n",
        "### **(k) [Optional Challenge] Compute $\\hat{Y}$**\n",
        "\n",
        "So far, you have done most of your work in z-score space of transformed coordinates $x'$ and $y'$. The last thing we ask if that you go backwards and find the regression equation $\\hat{Y}$. \n",
        "\n",
        "To go from z-score space of transformed coordinates $x'$ and $y'$ to an equation $\\hat{Y}$ that predicts $y$ from $x$, you'll need to do two steps:\n",
        "\n",
        "1.  Compute the denormalized regression coefficients $w$ and $b$ for the linear regression between $x'$ and $y'$ (not in z-score space).\n",
        "2. Use the regression coefficients $w$ and $b$ to derive an equation for $\\hat{Y}$.\n",
        "\n",
        "**Finally, please plot the original data $X$ vs. $Y$ on a scatterplot along with your linear, power law, or exponential regression line for $\\hat{Y}$.**\n",
        "\n",
        "*Hints:*\n",
        "* To compute the denormalized regression coefficients in step 1, recall that $w=r(\\sigma_{Y} / \\sigma_{X})$ and that the unnormalized regression line of best fit must always pass through the grand mean of the unnormalized points.\n",
        "* Step 2 requires undoing a possibly non-linear transformation for regression $y'=wx'+b$. Recall from lecture the three types of regression:\n",
        " * X vs Y (linear) $\\rightarrow$ $\\hat{Y}=wX+b$\n",
        " * X vs log Y (exponential) $\\rightarrow$ $\\hat{Y}=e^{wX + b}$\n",
        " * log X vs log Y (power law) $\\rightarrow$ $\\hat{Y}=e^{b}X^{w}$"
      ]
    },
    {
      "cell_type": "code",
      "metadata": {
        "id": "Sn7A0s5ezeIf"
      },
      "source": [
        "# TODO"
      ],
      "execution_count": null,
      "outputs": []
    },
    {
      "cell_type": "markdown",
      "metadata": {
        "id": "nLEavyVQzeIk"
      },
      "source": [
        "<font color='blue'> *Write your text answer here*"
      ]
    },
    {
      "cell_type": "markdown",
      "metadata": {
        "id": "9MUEpg3v9_gI"
      },
      "source": [
        "# Problem 2: txCount and paymentCount\n",
        "\n",
        "In this problem, we'll explore the relationship between **txCount (X)** and **paymentCount (Y)** in the data."
      ]
    },
    {
      "cell_type": "markdown",
      "metadata": {
        "id": "m_J7X_x6uQco"
      },
      "source": [
        "### Reading: Bitcoin Payments and Transactions\n",
        "\n",
        "To give background for problem 2, we want to introduce a few more details about how payments are processed on the Bitcoin blockchain network:\n",
        "\n",
        "*   All Bitcoin on the Bitcoin network is held in entities called Unspent Transaction Outputs (UTXOs). You can think of each UTXO as having an owner and also as holding a certain quantity of Bitcoin.\n",
        "*   Bitcoin on the blockchain are not directly associated with a particular user's account but rather are stored in UTXOs which are in turn owned by users. For instance, Alice's account on the blockchain would never be associated with a single Bitcoin balance but rather as the owner of a set of UTXOs.\n",
        "*   A **transaction** on the Bitcoin blockchain has both inputs and output UTXOs. A transaction submitted by a user always has as its inputs UTXOs owned by the user and as its output new UTXOs that the user wants to create (which can either be owned by the sender or another party). The sum of the values of the input UTXOs must always be as least as large as the sum of the values of the output UTXOs. The difference between the input and output totals is paid as a transaction fee to the miner who successfully mines the first block with the transaction included. This transaction fee creates an incentive for miners to include many transactions in the blocks they mine.\n",
        "\n",
        "Transactions can have one or multiple input UTXOs and one or multiple output UTXOs. The exact number depends on the use case. Here are some cases that may occur:\n",
        "\n",
        "\n",
        "1.   If the goal is to transfer all the money in the input UTXOs to one person, there only needs to be one output UTXO.\n",
        "2.   If the goal is to transfer some of the money in input UTXOs to one person and keep the rest for the user (this is useful in cases where you don't have the exact denomination in sum of input UTXOs for the payment you want to make), then the transaction can have two output UTXOs: a recipient-owned UTXO and a sender-owned \"change\" UTXO. An example of when you'd want to use something like this is if Alice only owns UTXOs of quantity 5 Bitcoin or more but wants to pay Bob 2 Bitcoin. To make a transaction, Alice would need to destroy one of her UTXOs and create two in turn: a 2 Bitcoin UTXO belonging to Bob and a \"change\" UTXO passing 2.9 Bitcoin back to Alice. Notice there'd be a 0.1 Bitcoin transaction fee paid to the miner who mines the block with this transaction.\n",
        "3. The last case is when one sender wants to make a transaction with many output UTXOs. It is not uncommon for transactions to have over 20 output UTXOs. This kind of behavior is usually for use cases such as a mining pool paying out or a Bitcoin exchange paying its users on the chain."
      ]
    },
    {
      "cell_type": "markdown",
      "metadata": {
        "id": "9zKDhqTh2tgw"
      },
      "source": [
        "---\n",
        "\n",
        "### **$X$, $Y$ Column Descriptions**\n",
        "\n",
        "This problem compares both **txCount (X)** and **paymentCount (Y)** in the data. We will describe both columns below:\n",
        "\n",
        "*   **paymentCount (Y):** The number of payments processed on the blockchain on a particular day.\n",
        "*   **txCount (X):** The number of transactions processed on the blockchain on a particular day.\n",
        "\n",
        "The reason why these two numbers are different is because multiple payments can be bundled into a single transaction as explained in the notes above. Both mining pools and Bitcoin exchanges are examples where the number of payments far exceed the number of transactions."
      ]
    },
    {
      "cell_type": "markdown",
      "metadata": {
        "id": "hLfmagT23NFs"
      },
      "source": [
        "---\n",
        "\n",
        "\n",
        "### **(a) Hypothesize the Relationship**\n",
        "Before you plot the data on a scatterplot, what do you hypothesize the relationship between $X$ and $Y$ will be? Do you hypothesize the data will follow either a linear, power law, or exponential relationship? If not, what kind of behavior do you hypothesize the data will exhibit? Please justify your response."
      ]
    },
    {
      "cell_type": "markdown",
      "metadata": {
        "id": "rnP9Zf7i3NFy"
      },
      "source": [
        "<font color='blue'> *Write your text answer here*"
      ]
    },
    {
      "cell_type": "markdown",
      "metadata": {
        "id": "Ka4fE8mG3NFz"
      },
      "source": [
        "### **(b) Load a Fresh Copy of Data**\n",
        "\n",
        "Next, run the following cell to load the data into a *pandas* dataframe and to visualize the first five rows of data. Generally, each time you do an analysis, it's a good idea to load the data again, to make sure you start with a clean copy of the dataset. If you apply a transformation to data, it's a good way of ensuring you don't have any transformations remaining when you do the next analysis. "
      ]
    },
    {
      "cell_type": "code",
      "metadata": {
        "id": "XnISXRdF3NFz"
      },
      "source": [
        "import pandas as pd\n",
        "import matplotlib.pyplot as plt\n",
        "\n",
        "df = pd.read_csv(DATA_URL)\n",
        "\n",
        "df.head()"
      ],
      "execution_count": null,
      "outputs": []
    },
    {
      "cell_type": "markdown",
      "metadata": {
        "id": "y0EGM9Tu3NF5"
      },
      "source": [
        "### **(c) Plot the Data on a Scatterplot**\n",
        "\n",
        "Visualize $X$ vs $Y$ using a scatterplot. \n",
        "\n",
        "*Hint: If you are unsure how to create the scatterplot, you may find the following [documentation](https://matplotlib.org/api/_as_gen/matplotlib.pyplot.scatter.html) to be useful.*"
      ]
    },
    {
      "cell_type": "code",
      "metadata": {
        "id": "W1xIQ2tS3NF5"
      },
      "source": [
        "# TODO"
      ],
      "execution_count": null,
      "outputs": []
    },
    {
      "cell_type": "markdown",
      "metadata": {
        "id": "TT4z_W0t3NF7"
      },
      "source": [
        "\n",
        "\n",
        "---\n",
        "### **(d) Describe Scatterplot**\n",
        "\n",
        "Describe, in completely qualitative terms, the direction, strength, and shape of this scatterplot. Recall the following three definitions from lecture:\n",
        "\n",
        "**Direction:** Qualitative descriptions of variable relationships (in the simplest form: \"As X increases, Y ...\")\n",
        "\n",
        "**Shape:** What does the data look like (linear, power law, exponential? if none of the above, how would you describe what the data looks like?)\n",
        "\n",
        "**Hetero/Homo-skedasticity:** Heteroskedasticity is when the standard deviation of y changes across different values of x. Homoscedasticity is the opposite, when variance is constant across values of x."
      ]
    },
    {
      "cell_type": "markdown",
      "metadata": {
        "id": "LoWL6UOi3NF8"
      },
      "source": [
        "<font color='blue'> *Write your text answer here*"
      ]
    },
    {
      "cell_type": "markdown",
      "metadata": {
        "id": "w5VfsE2U3NF8"
      },
      "source": [
        "\n",
        "### **(e) Remove Outliers**\n",
        "If there are any outliers, please remove them and plot the new scatterplot without outliers. Please describe how many outliers you removed and the criteria you used when determining if a point was an outlier.\n",
        "\n",
        "Note that determine if a point is an outlier is a subjective measure so there may sometimes by multiple acceptable answers for how to remove outliers. In particular, one possible answer is that there are no outliers to remove; if you choose this option, please be sure to justify why you think there are no outliers to remove in the scatterplot."
      ]
    },
    {
      "cell_type": "code",
      "metadata": {
        "id": "bGlXhAr03NF9"
      },
      "source": [
        "# TODO"
      ],
      "execution_count": null,
      "outputs": []
    },
    {
      "cell_type": "markdown",
      "metadata": {
        "id": "ibz5mfNP3NF_"
      },
      "source": [
        "<font color='blue'> *Write your text answer here*"
      ]
    },
    {
      "cell_type": "markdown",
      "metadata": {
        "id": "Qc4epzUE3NF_"
      },
      "source": [
        "\n",
        "\n",
        "---\n",
        "\n",
        "### **(f) Plot Three Transformations on Scatterplots**\n",
        "\n",
        "We would like to answer the question of whether the data is linear or whether there is a log-transformation under which it is linear. Use a scatterplot to plot each of the following three transformations:\n",
        "\n",
        "\n",
        "1.   X vs Y (linear)\n",
        "3.   X vs log Y (exponential)\n",
        "4.   log X vs log Y (power law)\n",
        "\n",
        "Compare the direction, strength, and shape of each of the transformed datsets. Based on which of the three graphs has the best fit, what do you hypothesize the best regression for the relationship between $X$ and $Y$ is? In the next part, we will more rigorously answer the question of which transformation to pursue.\n",
        "\n",
        "*Hint: To log-transform data, use np.log. Applying np.log to an array gives you an array where each element has been log-transformed.*"
      ]
    },
    {
      "cell_type": "code",
      "metadata": {
        "id": "ExEOuK7e3NF_"
      },
      "source": [
        "# TODO"
      ],
      "execution_count": null,
      "outputs": []
    },
    {
      "cell_type": "markdown",
      "metadata": {
        "id": "2Nh8l_8H3NGC"
      },
      "source": [
        "<font color='blue'> *Write your text answer here*"
      ]
    },
    {
      "cell_type": "markdown",
      "metadata": {
        "id": "FavFeB9H3NGC"
      },
      "source": [
        "---\n",
        "### **(g) Choose Best Transformation**\n",
        "\n",
        "We will now define a formal heuristic for selecting the best transformation for our regression. For each of the following transformations, calculate the value of the Pearson correlation coefficient *r* between the two variables:\n",
        "\n",
        "1.   X vs Y (linear)\n",
        "3.   X vs log Y (exponential)\n",
        "4.   log X vs log Y (power law)\n",
        "\n",
        "**Choose the transformation with the largest absolute value of *r* as the best transformation for this dataset.** We will call the coordinates associated with the transformation we choose $x'$ (either $X$ or $\\log{X}$) and $y'$ (either $Y$ or $\\log{Y}$) for the rest of the problem. \n",
        "\n",
        "**Note:** When completing this problem, please do the calculations for z-score and the correlation coefficient yourself and **do not** use functions like [scipy.stats.zscore](https://docs.scipy.org/doc/scipy/reference/generated/scipy.stats.zscore.html) or [scipy.stats.pearsonr](https://docs.scipy.org/doc/scipy/reference/generated/scipy.stats.pearsonr.html). While using these functions is great practice for your own work, we want you to gain experience calculating these quantities manually first.\n",
        "\n",
        "*Hints*:\n",
        "\n",
        "*  Recall that when we have a single column of quantitative data $X$ (or $\\log X$), we can take $z$-scores of the data by taking $z_{x} = \\frac{X - \\mu_{X}}{\\sigma_{X}}$.\n",
        "\n",
        "*   To calculate the values of the Pearson correlation coefficient $r$ between two quantitative variables $X$ and $Y$, first transform both $X$ and $Y$ to z-score space by normalizing both sets of coordinates. Then, use the following formula: \n",
        "\n",
        "$$ r = \\frac{\\sum_{i = 1}^{n} z_{x_{i}} z_{y_{i}}}{n} $$\n",
        "\n",
        "*   You may find the np.mean() (arr.mean()) or np.log(df) functions to be useful"
      ]
    },
    {
      "cell_type": "code",
      "metadata": {
        "id": "jrYawIuY3NGC"
      },
      "source": [
        "# TODO"
      ],
      "execution_count": null,
      "outputs": []
    },
    {
      "cell_type": "markdown",
      "metadata": {
        "id": "t_lmuoFT3NGE"
      },
      "source": [
        "<font color='blue'> *Write your text answer here*"
      ]
    },
    {
      "cell_type": "markdown",
      "metadata": {
        "id": "n4MzHl8f3NGF"
      },
      "source": [
        "---\n",
        "### **(h) Calculate Regression Coefficients**\n",
        "\n",
        "Transform your data $x'$ and $y'$ to z-score space (i.e. calculate the z-scores $z_{y'}$ and $z_{x'}$), and write code to calculate the regression coefficients $w'$ and $b'$ for $z_{y'} = w'*z_{x'} + b'$. Print out the values of $w'$ and $b'$.\n",
        "\n",
        "**Note:** For the same reason as listed in part (g), for the purpose of this assignment, please calculate your answer manually with code and **do not** use functions like [scipy.stats.linregress](https://docs.scipy.org/doc/scipy/reference/generated/scipy.stats.linregress.html).\n",
        "\n",
        "*Hint: Recall that it is fairly simple to calculate $b'$ and $w'$ for a linear regression between two variables in z-score space. w' is just the correlation coefficient r between the variables, and b' is a particular constant.*"
      ]
    },
    {
      "cell_type": "code",
      "metadata": {
        "id": "lOzhfyU63NGF"
      },
      "source": [
        "# TODO"
      ],
      "execution_count": null,
      "outputs": []
    },
    {
      "cell_type": "markdown",
      "metadata": {
        "id": "iIbHHMw83NGH"
      },
      "source": [
        "\n",
        "\n",
        "---\n",
        "### **(i) Calculate Coefficient of Determination $R^2$**\n",
        "Compute the value of $R^2$ for the regression calculated in the last part. Intepret the value of $R^2$ in the context of this problem. If you did part (g) properly, you shouldn't need to do any complicated math here!\n",
        "\n",
        "**Note:** For the same reason as listed in part (g), for the purpose of this assignment, please calculate your answer manually with code and **do not** use functions like [sklearn.metrics.r2_score](https://scikit-learn.org/stable/modules/generated/sklearn.metrics.r2_score.html)."
      ]
    },
    {
      "cell_type": "code",
      "metadata": {
        "id": "9xSwW7un3NGI"
      },
      "source": [
        "# TODO"
      ],
      "execution_count": null,
      "outputs": []
    },
    {
      "cell_type": "markdown",
      "metadata": {
        "id": "ieBA4ikQ3NGK"
      },
      "source": [
        "<font color='blue'> *Write your text answer here*"
      ]
    },
    {
      "cell_type": "markdown",
      "metadata": {
        "id": "2CUN7R263NGL"
      },
      "source": [
        "---\n",
        "### **(j) Plot Residuals**\n",
        "Next, plot the residuals for the regression you calculated in part (h) for the linear regression for $x'$ and $y'$ in z-score space. Explain whether the residuals graph is patterned or exhibits systematic error."
      ]
    },
    {
      "cell_type": "code",
      "metadata": {
        "id": "z1SfNoUH3NGL"
      },
      "source": [
        "# TODO"
      ],
      "execution_count": null,
      "outputs": []
    },
    {
      "cell_type": "markdown",
      "metadata": {
        "id": "53vra0e23NGN"
      },
      "source": [
        "<font color='blue'> *Write your text answer here*"
      ]
    },
    {
      "cell_type": "markdown",
      "metadata": {
        "id": "oBaDrjAV3NGO"
      },
      "source": [
        "---\n",
        "### **(k) [Optional Challenge] Compute $\\hat{Y}$**\n",
        "\n",
        "So far, you have done most of your work in z-score space of transformed coordinates $x'$ and $y'$. The last thing we ask if that you go backwards and find the regression equation $\\hat{Y}$. \n",
        "\n",
        "To go from z-score space of transformed coordinates $x'$ and $y'$ to an equation $\\hat{Y}$ that predicts $y$ from $x$, you'll need to do two steps:\n",
        "\n",
        "1.  Compute the denormalized regression coefficients $w$ and $b$ for the linear regression between $x'$ and $y'$ (not in z-score space).\n",
        "2. Use the regression coefficients $w$ and $b$ to derive an equation for $\\hat{Y}$.\n",
        "\n",
        "**Finally, please plot the original data $X$ vs. $Y$ on a scatterplot along with your linear, power law, or exponential regression line for $\\hat{Y}$.**\n",
        "\n",
        "*Hints:*\n",
        "* To compute the denormalized regression coefficients in step 1, recall that $w=r(\\sigma_{Y} / \\sigma_{X})$ and that the unnormalized regression line of best fit must always pass through the grand mean of the unnormalized points.\n",
        "* Step 2 requires undoing a possibly non-linear transformation for regression $y'=wx'+b$. Recall from lecture the three types of regression:\n",
        " * X vs Y (linear) $\\rightarrow$ $\\hat{Y}=wX+b$\n",
        " * X vs log Y (exponential) $\\rightarrow$ $\\hat{Y}=e^{wX + b}$\n",
        " * log X vs log Y (power law) $\\rightarrow$ $\\hat{Y}=e^{b}X^{w}$"
      ]
    },
    {
      "cell_type": "code",
      "metadata": {
        "id": "ZnYVkSNW3NGO"
      },
      "source": [
        "# TODO"
      ],
      "execution_count": null,
      "outputs": []
    },
    {
      "cell_type": "markdown",
      "metadata": {
        "id": "YJMorjmB3NGQ"
      },
      "source": [
        "<font color='blue'> *Write your text answer here*"
      ]
    },
    {
      "cell_type": "markdown",
      "metadata": {
        "id": "iSceVLGq9_e0"
      },
      "source": [
        "# Problem 3: generatedCoins and blockCount\n",
        "\n",
        "In this problem, we'll explore the relationship between **generatedCoins (X)** and **blockCount (Y)** in the data. "
      ]
    },
    {
      "cell_type": "markdown",
      "metadata": {
        "id": "7pyX_fzO7ebB"
      },
      "source": [
        "### Reading: Bitcoin Mining and Block Rewards\n",
        "\n",
        "As mentioned earlier, the Bitcoin network is entirely decentralized and maintained by the world's collective computing power. The way the system works is whenever a participant on the blockchain wants to send a payment on the network, she/he can broadcast the transaction to all miners on the network. The miners can thus choose which transactions to include in the blocks they mine. To incentivize miners to include a transaction, participants in the network can include a transaction fee paid to in their transaction as a reward for including the block.\n",
        "\n",
        "In addition to transaction fees, Bitcoin incentivizes mining through the minting of new coins. Every time a block is mined, a new quantity of Bitcoin is \"minted\" and awarded to the winner of the mining process. The amount of money rewarded for each block is called the block reward."
      ]
    },
    {
      "cell_type": "markdown",
      "metadata": {
        "id": "mVyQt4wc67Js"
      },
      "source": [
        "---\n",
        "\n",
        "### **$X$, $Y$ Column Descriptions**\n",
        "\n",
        "This problem compares both **generatedCoins (X)** and **blockCount (Y)** in the data. We will describe both columns below:\n",
        "\n",
        "*   **blockCount (Y):** The number of blocks that were mined on a particular day.\n",
        "*   **generatedCoins (X):** The amount of Bitcoin minted on a particular day as block rewards."
      ]
    },
    {
      "cell_type": "markdown",
      "metadata": {
        "id": "oVAJS6Jj6L3l"
      },
      "source": [
        "---\n",
        "\n",
        "\n",
        "### **(a) Hypothesize the Relationship**\n",
        "Before you plot the data on a scatterplot, what do you hypothesize the relationship between $X$ and $Y$ will be? Do you hypothesize the data will follow either a linear, power law, or exponential relationship? If not, what kind of behavior do you hypothesize the data will exhibit?\n",
        "\n",
        "*Hint: We omitted in the description above one important detail about the mining process that is necessary to answer this question. If you can identify what that hint is, please describe it here.*"
      ]
    },
    {
      "cell_type": "markdown",
      "metadata": {
        "id": "RBV5P2AH6L3n"
      },
      "source": [
        "<font color='blue'> *Write your text answer here*"
      ]
    },
    {
      "cell_type": "markdown",
      "metadata": {
        "id": "WvsG8uzX6L3n"
      },
      "source": [
        "### **(b) Load a Fresh Copy of Data**\n",
        "\n",
        "Next, run the following cell to load the data into a *pandas* dataframe and to visualize the first five rows of data. Generally, each time you do an analysis, it's a good idea to load the data again, to make sure you start with a clean copy of the dataset. If you apply a transformation to data, it's a good way of ensuring you don't have any transformations remaining when you do the next analysis. "
      ]
    },
    {
      "cell_type": "code",
      "metadata": {
        "id": "JpTpxWlf6L3o"
      },
      "source": [
        "import pandas as pd\n",
        "import matplotlib.pyplot as plt\n",
        "\n",
        "df = pd.read_csv(DATA_URL)\n",
        "\n",
        "df.head()"
      ],
      "execution_count": null,
      "outputs": []
    },
    {
      "cell_type": "markdown",
      "metadata": {
        "id": "iDDcl2df6L3s"
      },
      "source": [
        "### **(c) Plot the Data on a Scatterplot**\n",
        "\n",
        "Visualize $X$ vs $Y$ using a scatterplot. \n",
        "\n",
        "*Hint: If you are unsure how to create the scatterplot, you may find the following [documentation](https://matplotlib.org/api/_as_gen/matplotlib.pyplot.scatter.html) to be useful.*"
      ]
    },
    {
      "cell_type": "code",
      "metadata": {
        "id": "-O8P3YIv6L3s"
      },
      "source": [
        "# TODO"
      ],
      "execution_count": null,
      "outputs": []
    },
    {
      "cell_type": "markdown",
      "metadata": {
        "id": "6y_2aoB36L3w"
      },
      "source": [
        "\n",
        "\n",
        "---\n",
        "### **(d) Describe Scatterplot**\n",
        "\n",
        "Describe, in completely qualitative terms, the direction, strength, and shape of this scatterplot. Recall the following three definitions from lecture:\n",
        "\n",
        "**Direction:** Qualitative descriptions of variable relationships (in the simplest form: \"As X increases, Y ...\")\n",
        "\n",
        "**Shape:** What does the data look like (linear, power law, exponential? if none of the above, how would you describe what the data looks like?)\n",
        "\n",
        "**Hetero/Homo-skedasticity:** Heteroskedasticity is when the standard deviation of y changes across different values of x. Homoscedasticity is the opposite, when variance is constant across values of x."
      ]
    },
    {
      "cell_type": "markdown",
      "metadata": {
        "id": "nnJjfcMa6L3w"
      },
      "source": [
        "<font color='blue'> *Write your text answer here*"
      ]
    },
    {
      "cell_type": "markdown",
      "metadata": {
        "id": "nu3BLiTZ9_e_"
      },
      "source": [
        "\n",
        "\n",
        "---\n",
        "\n",
        "\n",
        "<font color='green'> **Clearly, the dataset does not at all resemble a linear, exponential, or power law relationship, so we should confidently abandon that form of modeling entirely! The rest of this problem is optional and is concerned with figuring out exactly what explains the \"strangeness\" in this dataset.**\n",
        "\n",
        "### **(e) [Optional Challenge] Uncover the Mystery**\n",
        "The scatterplot shows that the data seems to fall on two separate lines. Let's see if we can try to uncover more information about this strange pattern. To get started, use Pandas to separate the dataframe into two separate dataframes corresponding to points on each of the two lines. What do you notice as a general property of points in these two dataframes?\n",
        "\n",
        "*Hint 1: It may be helpful to look at the date column of the data.*\n",
        "\n",
        "*Hint 2: It's hard to look at three dimensions at once on a 2-D graph. One way to make it easier is to visualize the third dimension with color. The following code uses Seaborn, a commonly used extension of matplotlib:*\n",
        "\n",
        "```\n",
        "import seaborn as sns\n",
        "g = sns.scatterplot(x = <fill this in>, y=<fill this in>, data=df, hue=<fill this in>)\n",
        "g.legend_.remove()\n",
        "```\n",
        "*will show a graph where x and y are as usual, and one can use an extra variable to represent the color of each datapoint. Lastly, if you want to see the legend of the data (how the colors correspond to the points) feel free to comment out the last line.*\n",
        "\n"
      ]
    },
    {
      "cell_type": "code",
      "metadata": {
        "id": "hyZc6Phv9_e_"
      },
      "source": [
        "# TODO"
      ],
      "execution_count": null,
      "outputs": []
    },
    {
      "cell_type": "markdown",
      "metadata": {
        "id": "nXTtXdzO9_fD"
      },
      "source": [
        "<font color='blue'> *Write your answer here.*"
      ]
    },
    {
      "cell_type": "markdown",
      "metadata": {
        "id": "cTn2_l3L9_fE"
      },
      "source": [
        "---\n",
        "### **(f) [Optional Challenge] Find Out Why**\n",
        "If you got the correct answer to part (e), then you will realize that we have indeed identified a very interesting property of the dataset. There is actually a very specific reason for this pattern and it has to do with an important property of the Bitcoin network. Please describe why we observe this interesting pattern.\n",
        "\n",
        "As a challenge problem for this assignment, we ask you to read the [Bitcoin network wikipedia page](https://en.wikipedia.org/wiki/Bitcoin_network) to see if you can find the answer.\n",
        "\n",
        "*Hint 1: It may help to first consider why both segments of the scatterplot are perfect lines. In other words, what does the slope of the line represent in this case, and why is the value constant?*\n",
        "\n",
        "*Hint 2: You may find the [Bitcoin network wikipedia page](https://en.wikipedia.org/wiki/Bitcoin_network) to be a useful resource to read. You can focus your reading on the parts of the page before the start of the Payment Verifiication section.*\n"
      ]
    },
    {
      "cell_type": "markdown",
      "metadata": {
        "id": "12G_uwNkPfmR"
      },
      "source": [
        "<font color='blue'> *Write your answer here.*"
      ]
    }
  ]
}